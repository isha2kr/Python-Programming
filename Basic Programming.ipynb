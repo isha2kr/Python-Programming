{
 "cells": [
  {
   "cell_type": "markdown",
   "metadata": {},
   "source": [
    "# Basic Operations"
   ]
  },
  {
   "cell_type": "code",
   "execution_count": 3,
   "metadata": {},
   "outputs": [
    {
     "name": "stdout",
     "output_type": "stream",
     "text": [
      "Enter first no: 2\n",
      "Enter second no.: 3\n",
      "The addition of 2.0 and 3.0 is 5.0\n"
     ]
    }
   ],
   "source": [
    "# Take two variables\n",
    "num1=float(input('Enter first no: '))\n",
    "num2=float(input('Enter second no.: '))\n",
    "\n",
    "# Add these two variable \n",
    "num3=num1+num2\n",
    "\n",
    "# display result\n",
    "print(\"The addition of {0} and {1} is {2}\" .format(num1,num2,num3))"
   ]
  },
  {
   "cell_type": "code",
   "execution_count": 4,
   "metadata": {},
   "outputs": [
    {
     "name": "stdout",
     "output_type": "stream",
     "text": [
      "Enter first no: 20\n",
      "Enter second no.: 7.5\n",
      "The subtraction of 20.0 and 7.5 is 12.5\n"
     ]
    }
   ],
   "source": [
    "# Take two variables\n",
    "num1=float(input('Enter first no: '))\n",
    "num2=float(input('Enter second no.: '))\n",
    "\n",
    "# sub these two variable \n",
    "num3=num1-num2\n",
    "\n",
    "# display result\n",
    "print(\"The subtraction of {0} and {1} is {2}\" .format(num1,num2,num3))"
   ]
  },
  {
   "cell_type": "code",
   "execution_count": 6,
   "metadata": {},
   "outputs": [
    {
     "name": "stdout",
     "output_type": "stream",
     "text": [
      "Enter first no: 20.1\n",
      "Enter second no.: 15\n",
      "The multiplication of 20.1 and 15.0 is 301.5\n"
     ]
    }
   ],
   "source": [
    "# Take two variables\n",
    "num1=float(input('Enter first no: '))\n",
    "num2=float(input('Enter second no.: '))\n",
    "\n",
    "# multiply these two variable \n",
    "num3=num1*num2\n",
    "\n",
    "# display result\n",
    "print(\"The multiplication of {0} and {1} is {2}\" .format(num1,num2,num3))"
   ]
  },
  {
   "cell_type": "code",
   "execution_count": 7,
   "metadata": {},
   "outputs": [
    {
     "name": "stdout",
     "output_type": "stream",
     "text": [
      "Enter first no: 45\n",
      "Enter second no.: 3\n",
      "The division of 45.0 and 3.0 is 15.0\n"
     ]
    }
   ],
   "source": [
    "# Take two variables\n",
    "num1=float(input('Enter first no: '))\n",
    "num2=float(input('Enter second no.: '))\n",
    "\n",
    "# Divide these two variable \n",
    "num3=num1/num2\n",
    "\n",
    "# display result\n",
    "print(\"The division of {0} and {1} is {2}\" .format(num1,num2,num3))"
   ]
  },
  {
   "cell_type": "markdown",
   "metadata": {},
   "source": [
    "# Check prime or not"
   ]
  },
  {
   "cell_type": "code",
   "execution_count": 12,
   "metadata": {},
   "outputs": [
    {
     "name": "stdout",
     "output_type": "stream",
     "text": [
      "Enter a no. 5\n",
      "Number is Prime\n"
     ]
    }
   ],
   "source": [
    "#user input\n",
    "a=float(input(\"Enter a no. \"))\n",
    "if(a%2==0):\n",
    "    print(\"Number is Not Prime\")\n",
    "else:\n",
    "    print(\"Number is Prime\")"
   ]
  },
  {
   "cell_type": "markdown",
   "metadata": {},
   "source": [
    "# Factorial"
   ]
  },
  {
   "cell_type": "code",
   "execution_count": 13,
   "metadata": {},
   "outputs": [
    {
     "name": "stdout",
     "output_type": "stream",
     "text": [
      "Enter a number: 3\n",
      "6\n"
     ]
    }
   ],
   "source": [
    "#user input\n",
    "num = int(input(\"Enter a number: \"))\n",
    "fac = 1\n",
    "for i in range(1, num+1):\n",
    "    fac = fac * i\n",
    "print(fac)"
   ]
  },
  {
   "cell_type": "markdown",
   "metadata": {},
   "source": [
    "# Largest Number"
   ]
  },
  {
   "cell_type": "code",
   "execution_count": 15,
   "metadata": {},
   "outputs": [
    {
     "name": "stdout",
     "output_type": "stream",
     "text": [
      "Enter first no.2\n",
      "Enter second no.3\n",
      "Enter third no.4.5\n",
      "The largest number 4.5\n"
     ]
    }
   ],
   "source": [
    "a=float(input(\"Enter first no.\"))\n",
    "b=float(input(\"Enter second no.\"))\n",
    "c=float(input(\"Enter third no.\"))\n",
    "if (a > b) and (a >c):\n",
    "   largest = a\n",
    "elif (b >a) and (b > c):\n",
    "   largest = b\n",
    "else:\n",
    "   largest = c\n",
    "print(\"The largest number\", largest)\n"
   ]
  },
  {
   "cell_type": "markdown",
   "metadata": {},
   "source": [
    "# Check Positive,Negative or zero"
   ]
  },
  {
   "cell_type": "code",
   "execution_count": 4,
   "metadata": {},
   "outputs": [
    {
     "name": "stdout",
     "output_type": "stream",
     "text": [
      "Enter number: 30\n",
      "The value of a is positive \n"
     ]
    }
   ],
   "source": [
    "#user input\n",
    "a=float(input(\"Enter number: \"))\n",
    "if(a>0):\n",
    "    print(\"The value of a is positive \")\n",
    "elif(a<0):\n",
    "    print(\"The value of a is negative \")\n",
    "else:\n",
    "    print(\"Value of a is 0\")"
   ]
  },
  {
   "cell_type": "markdown",
   "metadata": {},
   "source": [
    "# Odd Even"
   ]
  },
  {
   "cell_type": "code",
   "execution_count": 7,
   "metadata": {},
   "outputs": [
    {
     "name": "stdout",
     "output_type": "stream",
     "text": [
      "Enter first no.8\n",
      "Then the even\n"
     ]
    }
   ],
   "source": [
    "#user input\n",
    "a=int(input(\"Enter first no.\"))\n",
    "if(a%2==0):\n",
    "    print(\"Then the even\")\n",
    "else:\n",
    "    print(\"The number {0}  is odd\" .format(a))"
   ]
  },
  {
   "cell_type": "markdown",
   "metadata": {},
   "source": [
    "# Swapping"
   ]
  },
  {
   "cell_type": "code",
   "execution_count": 22,
   "metadata": {},
   "outputs": [
    {
     "name": "stdout",
     "output_type": "stream",
     "text": [
      "Enter first no.25.4\n",
      "Enter second no.19.4\n",
      "x:  19.4\n",
      "y:  25.4\n"
     ]
    }
   ],
   "source": [
    "# Take two variables\n",
    "x = float(input(\"Enter first no.\"))\n",
    "y = float(input(\"Enter second no.\"))\n",
    "\n",
    "# swap \n",
    "x, y = y, x\n",
    "\n",
    "# display result\n",
    "print(\"x: \", x)\n",
    "print(\"y: \", y)"
   ]
  },
  {
   "cell_type": "markdown",
   "metadata": {},
   "source": [
    "# Square Root"
   ]
  },
  {
   "cell_type": "code",
   "execution_count": 29,
   "metadata": {},
   "outputs": [
    {
     "name": "stdout",
     "output_type": "stream",
     "text": [
      "The square root of the 5 is: 2.23606797749979\n"
     ]
    }
   ],
   "source": [
    "# Take a variable\n",
    "num1 =5\n",
    "# find the sq. root\n",
    "num2=(num1**0.5)\n",
    "# Display the result\n",
    "print(\"The square root of the {0} is:\" .format(num1), num2)\n",
    "\n",
    "\n",
    "#with user input\n",
    "#x = float(input(\"Enter the no.\"))\n",
    "#num2=(x**0.5)\n",
    "# Display the result\n",
    "#print(\"The square root of the {0} is:\" .format(x), num2)"
   ]
  },
  {
   "cell_type": "markdown",
   "metadata": {},
   "source": [
    "# Area Of Triangle"
   ]
  },
  {
   "cell_type": "code",
   "execution_count": 31,
   "metadata": {},
   "outputs": [
    {
     "name": "stdout",
     "output_type": "stream",
     "text": [
      "Enter first side: 4\n",
      "Enter first side: 6\n",
      "Enter first side: 8.5\n",
      "The perimeter is 9.25\n",
      "The area of the triangle is 10.879848057303006\n"
     ]
    }
   ],
   "source": [
    "a= float(input('Enter first side: '))\n",
    "b= float(input('Enter first side: '))\n",
    "c= float(input('Enter first side: '))\n",
    "#Perimeter\n",
    "s = (a + b + c) / 2\n",
    "#display result\n",
    "print(\"The perimeter is\",s)\n",
    "#Area calculation\n",
    "area=(s*(s-a)*(s-b)*(s-c)) ** 0.5\n",
    "#display result\n",
    "print(\"The area of the triangle is\",area)"
   ]
  },
  {
   "cell_type": "markdown",
   "metadata": {},
   "source": [
    "# Average"
   ]
  },
  {
   "cell_type": "code",
   "execution_count": 32,
   "metadata": {},
   "outputs": [
    {
     "name": "stdout",
     "output_type": "stream",
     "text": [
      "Enter no.: 6\n",
      "Average of first  6  number is:  3.5\n"
     ]
    }
   ],
   "source": [
    "#user input\n",
    "n = int(input('Enter no.: '))\n",
    "average = 0\n",
    "sum = 0\n",
    "for num in range(1,n+1):\n",
    "    sum = sum+num;\n",
    "average = sum / n\n",
    "print(\"Average of first \", n, \" number is: \", average)"
   ]
  },
  {
   "cell_type": "markdown",
   "metadata": {},
   "source": [
    "# Convert Km To Miles"
   ]
  },
  {
   "cell_type": "code",
   "execution_count": 33,
   "metadata": {},
   "outputs": [
    {
     "name": "stdout",
     "output_type": "stream",
     "text": [
      "Enter a value:4.5\n",
      "4.5 km is equal to 2.79 miles\n"
     ]
    }
   ],
   "source": [
    "# user input\n",
    "km=float(input(\"Enter a value:\"))\n",
    "\n",
    "#convert km to mile\n",
    "con=0.62\n",
    "\n",
    "#Calculate miles\n",
    "miles=km*con\n",
    "\n",
    "#display the result \n",
    "print(\"{0} km is equal to {1} miles\" .format(km,miles))"
   ]
  },
  {
   "cell_type": "code",
   "execution_count": null,
   "metadata": {},
   "outputs": [],
   "source": []
  }
 ],
 "metadata": {
  "kernelspec": {
   "display_name": "Python 3",
   "language": "python",
   "name": "python3"
  },
  "language_info": {
   "codemirror_mode": {
    "name": "ipython",
    "version": 3
   },
   "file_extension": ".py",
   "mimetype": "text/x-python",
   "name": "python",
   "nbconvert_exporter": "python",
   "pygments_lexer": "ipython3",
   "version": "3.8.3"
  }
 },
 "nbformat": 4,
 "nbformat_minor": 4
}
